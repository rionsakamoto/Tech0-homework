{
 "cells": [
  {
   "cell_type": "code",
   "execution_count": 56,
   "metadata": {},
   "outputs": [
    {
     "name": "stdout",
     "output_type": "stream",
     "text": [
      "             物件名  階数      家賃  間取り       面積\n",
      "0            平林荘  1階    13万円  4DK  70.49m2\n",
      "1  kinomori代々木上原  4階  12.7万円   2K   23.7m2\n",
      "2  kinomori代々木上原  1階    13万円   2K  24.08m2\n",
      "3  kinomori代々木上原  2階  13.1万円   2K  24.08m2\n",
      "4  kinomori代々木上原  3階  13.2万円   2K  24.08m2\n",
      "一意の物件数: 52\n"
     ]
    }
   ],
   "source": [
    "import requests\n",
    "from bs4 import BeautifulSoup\n",
    "import pandas as pd\n",
    "import gspread\n",
    "from oauth2client.service_account import ServiceAccountCredentials\n",
    "\n",
    "# SUUMO URL（港区、渋谷区、品川区、目黒区）\n",
    "url_template = \"https://suumo.jp/jj/chintai/ichiran/FR301FC001/?url=%2Fchintai%2Fichiran%2FFR301FC001%2F&ar=030&bs=040&pc=30&smk=&po1=25&po2=99&tc=0400301&tc=0400501&shkr1=03&shkr2=03&shkr3=03&shkr4=03&cb=0.0&ct=20.0&md=05&md=06&md=07&md=08&md=09&md=10&md=11&md=12&md=13&md=14&et=9999999&mb=0&mt=9999999&cn=9999999&ta=13&sc=13103&sc=13113&sc=13109&sc=13110\"\n",
    "\n",
    "all_data = []\n",
    "max_page = 100 \n",
    "\n",
    "for page in range(1, max_page + 1):\n",
    "    url = url_template.format(page)\n",
    "    r = requests.get(url)\n",
    "    soup = BeautifulSoup(r.content, \"html.parser\")\n",
    "    items = soup.findAll(\"div\", {\"class\": \"cassetteitem\"})\n",
    "    for item in items:\n",
    "        property_name = item.find(\"div\", {\"class\": \"cassetteitem_content-title\"}).getText().strip()\n",
    "        tbodys = item.find(\"table\", {\"class\": \"cassetteitem_other\"}).findAll(\"tbody\")\n",
    "        for tbody in tbodys:\n",
    "            data = {}\n",
    "            data[\"物件名\"] = property_name\n",
    "            data[\"階数\"] = tbody.findAll(\"td\")[2].getText().strip()\n",
    "            data[\"家賃\"] = tbody.findAll(\"td\")[3].findAll(\"li\")[0].getText().strip()\n",
    "            data[\"間取り\"] = tbody.findAll(\"td\")[5].findAll(\"li\")[0].getText().strip()\n",
    "            data[\"面積\"] = tbody.findAll(\"td\")[5].findAll(\"li\")[1].getText().strip()\n",
    "            all_data.append(data)\n",
    "\n",
    "# DataFrameに変換\n",
    "df = pd.DataFrame(all_data)\n",
    "\n",
    "# 重複データの除外\n",
    "df_unique = df.drop_duplicates(subset=['階数', '家賃', '間取り', '面積'])\n",
    "\n",
    "# 結果を表示\n",
    "print(df_unique.head())\n"
   ]
  },
  {
   "cell_type": "code",
   "execution_count": 57,
   "metadata": {},
   "outputs": [
    {
     "name": "stderr",
     "output_type": "stream",
     "text": [
      "/var/folders/ht/sdt7w_3s55d7vk724_f_w8w40000gn/T/ipykernel_23789/1536202176.py:17: DeprecationWarning: [Deprecated][in version 6.0.0]: Method signature's arguments 'range_name' and 'values' will change their order. We recommend using named arguments for minimal impact. In addition, the argument 'values' will be mandatory of type: 'List[List]'. (ex) Worksheet.update(values = [[]], range_name=) \n",
      "  worksheet.update([df.columns.values.tolist()] + df.values.tolist())\n"
     ]
    },
    {
     "data": {
      "text/plain": [
       "{'spreadsheetId': '1wTUn5QnbbowUn6U1fCgwxVtXXYFejyKglNRifkMUtik',\n",
       " 'updatedRange': \"'シート1'!A1:E7801\",\n",
       " 'updatedRows': 7801,\n",
       " 'updatedColumns': 5,\n",
       " 'updatedCells': 39005}"
      ]
     },
     "execution_count": 57,
     "metadata": {},
     "output_type": "execute_result"
    }
   ],
   "source": [
    "# 設定\n",
    "scope = ['https://spreadsheets.google.com/feeds', 'https://www.googleapis.com/auth/drive']\n",
    "credentials = ServiceAccountCredentials.from_json_keyfile_name('green-torus-405215-98138f22cf95.json', scope)\n",
    "gc = gspread.authorize(credentials)\n",
    "\n",
    "# スプレッドシートを開く、もしくは新規作成\n",
    "try:\n",
    "    spreadsheet = gc.open('Tech0 1130 Homework')\n",
    "except gspread.SpreadsheetNotFound:\n",
    "    spreadsheet = gc.create('Tech0 1130 Homework')\n",
    "    # 必要に応じてサービスアカウントに共有設定\n",
    "\n",
    "# 最初のワークシートを取得\n",
    "worksheet = spreadsheet.get_worksheet(0)\n",
    "\n",
    "# データをスプレッドシートに転記\n",
    "worksheet.update([df.columns.values.tolist()] + df.values.tolist())"
   ]
  },
  {
   "cell_type": "code",
   "execution_count": null,
   "metadata": {},
   "outputs": [],
   "source": []
  }
 ],
 "metadata": {
  "kernelspec": {
   "display_name": "Python 3",
   "language": "python",
   "name": "python3"
  },
  "language_info": {
   "codemirror_mode": {
    "name": "ipython",
    "version": 3
   },
   "file_extension": ".py",
   "mimetype": "text/x-python",
   "name": "python",
   "nbconvert_exporter": "python",
   "pygments_lexer": "ipython3",
   "version": "3.11.5"
  }
 },
 "nbformat": 4,
 "nbformat_minor": 2
}
