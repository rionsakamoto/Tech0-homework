{
 "cells": [
  {
   "cell_type": "code",
   "execution_count": 19,
   "metadata": {},
   "outputs": [
    {
     "name": "stdout",
     "output_type": "stream",
     "text": [
      "          物件名    家賃         所在地              駅徒歩   間取り     面積   築年数     階\n",
      "0       ハウス桜丘    13  東京都世田谷区桜丘２   小田急線/千歳船橋駅 歩7分    4K     49  築41年   2階建\n",
      "1     物件名登録なし  10.5  東京都世田谷区経堂２     小田急線/経堂駅 歩4分    2K  25.46   築3年   4階建\n",
      "2      ワイズホーム  17.6   東京都目黒区原町１   東急目黒線/西小山駅 歩3分   2DK  66.98  築16年   3階建\n",
      "3  ロイヤルハウス都立大    18   東京都目黒区平町１  東急東横線/都立大学駅 歩2分  2SDK  55.62  築35年  11階建\n",
      "5     物件名登録なし    14  東京都世田谷区松原５  京王井の頭線/東松原駅 歩7分    4K  62.42  築50年   2階建\n",
      "一意の物件数: 509\n"
     ]
    }
   ],
   "source": [
    "import requests\n",
    "from bs4 import BeautifulSoup\n",
    "import pandas as pd\n",
    "import gspread\n",
    "from oauth2client.service_account import ServiceAccountCredentials\n",
    "\n",
    "# 初期化\n",
    "all_data = []\n",
    "\n",
    "# データ取得\n",
    "base_url = \"https://suumo.jp/jj/chintai/ichiran/FR301FC001/?url=%2Fchintai%2Fichiran%2FFR301FC001%2F&ar=030&bs=040&pc=30&smk=r01&po1=25&po2=99&tc=0400301&tc=0400501&shkr1=03&shkr2=03&shkr3=03&shkr4=03&cb=0.0&ct=20.0&md=05&md=06&md=07&md=08&md=09&md=10&md=11&md=12&md=13&md=14&et=9999999&mb=0&mt=9999999&cn=9999999&ta=13&sc=13103&sc=13113&sc=13109&sc=13110&sc=13112\"\n",
    "\n",
    "for page in range(1, 90):\n",
    "    url = f\"{base_url}&page={page}\"\n",
    "    response = requests.get(url)\n",
    "    soup = BeautifulSoup(response.content, 'html.parser')\n",
    "\n",
    "    # 各物件の情報取得\n",
    "    items = soup.find_all(\"ul\", class_=\"l-cassetteitem\")\n",
    "    for item in items:\n",
    "        # 物件名クレンジング\n",
    "        property_name = item.find(\"div\", class_=\"cassetteitem_content-title\").text.strip()\n",
    "        if not property_name or \"駅\" in property_name:\n",
    "            property_name = '物件名登録なし'\n",
    "\n",
    "        # その他クレンジング\n",
    "        rent = item.find(\"span\", class_=\"cassetteitem_other-emphasis ui-text--bold\").text.strip().replace('万円', '')\n",
    "        location = item.find(\"li\", class_=\"cassetteitem_detail-col1\").text.strip()\n",
    "        walk_to_station = item.find(\"div\", class_=\"cassetteitem_detail-text\").text.strip()\n",
    "        layout = item.find(\"span\", class_=\"cassetteitem_madori\").text.strip()\n",
    "        area = item.find(\"span\", class_=\"cassetteitem_menseki\").text.strip().replace('m2', '')\n",
    "        age_floor_text = item.find(\"li\", class_=\"cassetteitem_detail-col3\").text.strip()\n",
    "        age, floor = age_floor_text.split('\\n', 1)\n",
    "\n",
    "        # データをリストに追加\n",
    "        all_data.append({\n",
    "            \"物件名\": property_name,\n",
    "            \"家賃\": rent,\n",
    "            \"所在地\": location,\n",
    "            \"駅徒歩\": walk_to_station,\n",
    "            \"間取り\": layout,\n",
    "            \"面積\": area,\n",
    "            \"築年数\": age,\n",
    "            \"階\": floor\n",
    "        })\n",
    "\n",
    "# データフレームに変換\n",
    "df = pd.DataFrame(all_data)\n",
    "\n",
    "# 重複排除\n",
    "df_unique = df.drop_duplicates(subset=['家賃', '所在地', '間取り', '面積', '築年数', '階'])\n",
    "\n",
    "# 結果を表示\n",
    "print(df_unique.head())\n",
    "\n",
    "# 一意の物件数を確認\n",
    "print(f\"一意の物件数: {len(df_unique)}\")\n"
   ]
  },
  {
   "cell_type": "code",
   "execution_count": 20,
   "metadata": {},
   "outputs": [
    {
     "name": "stderr",
     "output_type": "stream",
     "text": [
      "/var/folders/ht/sdt7w_3s55d7vk724_f_w8w40000gn/T/ipykernel_2291/1536202176.py:17: DeprecationWarning: [Deprecated][in version 6.0.0]: Method signature's arguments 'range_name' and 'values' will change their order. We recommend using named arguments for minimal impact. In addition, the argument 'values' will be mandatory of type: 'List[List]'. (ex) Worksheet.update(values = [[]], range_name=) \n",
      "  worksheet.update([df.columns.values.tolist()] + df.values.tolist())\n"
     ]
    },
    {
     "data": {
      "text/plain": [
       "{'spreadsheetId': '1wTUn5QnbbowUn6U1fCgwxVtXXYFejyKglNRifkMUtik',\n",
       " 'updatedRange': \"'シート1'!A1:H533\",\n",
       " 'updatedRows': 533,\n",
       " 'updatedColumns': 8,\n",
       " 'updatedCells': 4264}"
      ]
     },
     "execution_count": 20,
     "metadata": {},
     "output_type": "execute_result"
    }
   ],
   "source": [
    "# 設定\n",
    "scope = ['https://spreadsheets.google.com/feeds', 'https://www.googleapis.com/auth/drive']\n",
    "credentials = ServiceAccountCredentials.from_json_keyfile_name('green-torus-405215-98138f22cf95.json', scope)\n",
    "gc = gspread.authorize(credentials)\n",
    "\n",
    "# スプレッドシートを開く\n",
    "try:\n",
    "    spreadsheet = gc.open('Tech0 1130 Homework')\n",
    "except gspread.SpreadsheetNotFound:\n",
    "    spreadsheet = gc.create('Tech0 1130 Homework')\n",
    "\n",
    "\n",
    "# 最初のワークシートを取得\n",
    "worksheet = spreadsheet.get_worksheet(0)\n",
    "\n",
    "# データをスプレッドシートに転記\n",
    "worksheet.update([df.columns.values.tolist()] + df.values.tolist())"
   ]
  },
  {
   "cell_type": "code",
   "execution_count": null,
   "metadata": {},
   "outputs": [],
   "source": []
  }
 ],
 "metadata": {
  "kernelspec": {
   "display_name": "Python 3",
   "language": "python",
   "name": "python3"
  },
  "language_info": {
   "codemirror_mode": {
    "name": "ipython",
    "version": 3
   },
   "file_extension": ".py",
   "mimetype": "text/x-python",
   "name": "python",
   "nbconvert_exporter": "python",
   "pygments_lexer": "ipython3",
   "version": "3.11.5"
  }
 },
 "nbformat": 4,
 "nbformat_minor": 2
}
